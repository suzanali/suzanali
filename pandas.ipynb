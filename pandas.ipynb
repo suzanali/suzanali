{
  "nbformat": 4,
  "nbformat_minor": 0,
  "metadata": {
    "colab": {
      "name": "pandas.ipynb",
      "provenance": [],
      "collapsed_sections": [],
      "authorship_tag": "ABX9TyMd90SR+8xkbSiPKEuiZnE9",
      "include_colab_link": true
    },
    "kernelspec": {
      "name": "python3",
      "display_name": "Python 3"
    },
    "language_info": {
      "name": "python"
    }
  },
  "cells": [
    {
      "cell_type": "markdown",
      "metadata": {
        "id": "view-in-github",
        "colab_type": "text"
      },
      "source": [
        "<a href=\"https://colab.research.google.com/github/suzanali/suzanali/blob/main/pandas.ipynb\" target=\"_parent\"><img src=\"https://colab.research.google.com/assets/colab-badge.svg\" alt=\"Open In Colab\"/></a>"
      ]
    },
    {
      "cell_type": "code",
      "execution_count": null,
      "metadata": {
        "colab": {
          "base_uri": "https://localhost:8080/"
        },
        "id": "BHa3IKIbKgOj",
        "outputId": "009b9473-1be6-4fdc-f51a-e799a8b97a3a"
      },
      "outputs": [
        {
          "output_type": "stream",
          "name": "stdout",
          "text": [
            "  Name  Age  Marks\n",
            "0  Joe   20   85.1\n"
          ]
        }
      ],
      "source": [
        "import pandas as pd\n",
        "\n",
        "student_dict = {'Name': ['Joe', 'Nat', 'Harry','Jack','Jose','Jill','Rose'],\n",
        "                'Age': [20, 21, 19,17,18,19,17],\n",
        "                'Marks': [85.10, 77.80, 91.54,72,87.9,90,72]}\n",
        "\n",
        "# create DataFrame from dict\n",
        "student_df = pd.DataFrame(student_dict)\n",
        "\n",
        "# display first 5 rows\n",
        "topRows = student_df.head(-6)\n",
        "print(topRows)"
      ]
    },
    {
      "cell_type": "code",
      "source": [
        "import pandas as pd\n",
        "\n",
        "student_dict = {'Name': ['Joe', 'Nat', 'Harry',], 'Age': [20, 21, 19], \n",
        "                'Marks': [85.10, 77.80, 91.54]}\n",
        "\n",
        "# create DataFrame from dict\n",
        "student_df = pd.DataFrame(student_dict)\n",
        "\n",
        "value = student_df.at[2,\"Age\"]\n",
        "print(value)  "
      ],
      "metadata": {
        "colab": {
          "base_uri": "https://localhost:8080/"
        },
        "id": "4bzwpeK0Ktpy",
        "outputId": "54bf61c9-e640-4de1-843a-57f8bb2af9f5"
      },
      "execution_count": null,
      "outputs": [
        {
          "output_type": "stream",
          "name": "stdout",
          "text": [
            "19\n"
          ]
        }
      ]
    },
    {
      "cell_type": "code",
      "source": [
        "import pandas as pd\n",
        "\n",
        "student_dict = {'Name': ['Joe', 'Nat', 'Harry',], 'Age': [20, 21, 19],\n",
        "                'Marks': [85.10, 77.80, 91.54]}\n",
        "\n",
        "# create DataFrame from dict\n",
        "student_df = pd.DataFrame(student_dict)\n",
        "print(student_df.at[2,\"Age\"])\n",
        "\n",
        "# change the value\n",
        "student_df.at[2,\"Age\"] = 50\n",
        "print(student_df.at[2,\"Age\"])"
      ],
      "metadata": {
        "colab": {
          "base_uri": "https://localhost:8080/"
        },
        "id": "9niPAG8cKtyp",
        "outputId": "2d3bb752-514d-482d-e440-fc30c96ebb7d"
      },
      "execution_count": null,
      "outputs": [
        {
          "output_type": "stream",
          "name": "stdout",
          "text": [
            "19\n",
            "50\n"
          ]
        }
      ]
    }
  ]
}